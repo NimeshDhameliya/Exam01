{
 "cells": [
  {
   "attachments": {
    "1280px-Lamar_University_logo.svg.png": {
     "image/png": "[encoded data removed]"
    }
   },
   "cell_type": "markdown",
   "id": "a3073539",
   "metadata": {},
   "source": [
    "![1280px-Lamar_University_logo.svg.png](attachment:1280px-Lamar_University_logo.svg.png)"
   ]
  },
  {
   "cell_type": "markdown",
   "id": "52b7275a",
   "metadata": {},
   "source": [
    "<h1>Nimesh Dhameliya</h1>"
   ]
  },
  {
   "cell_type": "code",
   "execution_count": null,
   "id": "72bee148",
   "metadata": {},
   "outputs": [],
   "source": []
  },
  {
   "cell_type": "markdown",
   "id": "71c330e5",
   "metadata": {},
   "source": [
    "<h1><center>Pro 3 Total Deflection at End</center></h1>"
   ]
  },
  {
   "cell_type": "code",
   "execution_count": 2,
   "id": "ce5de1ea",
   "metadata": {},
   "outputs": [],
   "source": [
    "#cinstant values given\n",
    "q = 250 #unit N/cm\n",
    "f1 = 100000 #unit N   at 10000 cm\n",
    "f2 = 200000 #unit N   at L\n",
    "I = 81960000 #unit cm4\n",
    "E = 200000 * 1e-4   #unit N/cm²   1 Pa = 0.0001 N/cm²\n",
    "a1 = 10000 #unit cm\n",
    "a2 = L = 25000 #unit cm\n",
    "b = 15000 #unit cm   L= a + b\n"
   ]
  },
  {
   "cell_type": "code",
   "execution_count": 3,
   "id": "56ff9c4d",
   "metadata": {},
   "outputs": [],
   "source": [
    "def deflection(q,L,I,E,f1,f2,a,b):\n",
    "    def1 = (q*(L**4))/(8*E*I)    #deflection due uniform load\n",
    "    def2 = ((f1*(a**3)/(8*E*I)))*(1 + ((3*a)/(2*b)))   #deflection due point load at a\n",
    "    def3 = (f2*(L**3))/(3*E*I)   #deflection due point load at end   #source= https://www.engineeringtoolbox.com/cantilever-beams-d_1848.html\n",
    "    total_def = (def1 + def2 + def3)  #sum of deflection\n",
    "    return total_def"
   ]
  },
  {
   "cell_type": "code",
   "execution_count": 7,
   "id": "005b4cd8",
   "metadata": {},
   "outputs": [
    {
     "data": {
      "text/plain": [
       "8097668323.9791765"
      ]
     },
     "execution_count": 7,
     "metadata": {},
     "output_type": "execute_result"
    }
   ],
   "source": [
    "total_deflection_end = deflection(q,L,I,E,f1,f2,a1,b)  #calling function\n",
    "total_deflection_end     #unit cm"
   ]
  },
  {
   "cell_type": "code",
   "execution_count": null,
   "id": "1bc80d72",
   "metadata": {},
   "outputs": [],
   "source": []
  },
  {
   "cell_type": "markdown",
   "id": "2cd273e3",
   "metadata": {},
   "source": [
    "<h1>Pro 4</h1>"
   ]
  },
  {
   "cell_type": "code",
   "execution_count": null,
   "id": "2bcbcf9c",
   "metadata": {},
   "outputs": [],
   "source": [
    "volume_air_circulation = 1000    #unit m³/hr\n",
    "total_time_open = 7 #unit hr\n",
    "volume_bar = 500     #unit m³\n",
    "total_cigar = 700   # 50 men smoke 2 cigar per hour\n",
    "tot_acehy = 700*800*1e-6   #each cigar emits 800 micro gram    1 microgram = 1e-6 gram\n",
    "life_acehy = 46  #unit hour\n"
   ]
  },
  {
   "cell_type": "code",
   "execution_count": null,
   "id": "31cbb7a3",
   "metadata": {},
   "outputs": [],
   "source": [
    "def concentraction():\n",
    "    inlet = tot_acehy \n",
    "    outlet = 60*1e-6  #"
   ]
  },
  {
   "cell_type": "code",
   "execution_count": null,
   "id": "026df60c",
   "metadata": {},
   "outputs": [],
   "source": []
  },
  {
   "cell_type": "code",
   "execution_count": null,
   "id": "4036e77b",
   "metadata": {},
   "outputs": [],
   "source": []
  },
  {
   "cell_type": "code",
   "execution_count": null,
   "id": "6508f3a9",
   "metadata": {},
   "outputs": [],
   "source": []
  },
  {
   "cell_type": "markdown",
   "id": "96252496",
   "metadata": {},
   "source": [
    "<h1>Pro 1</h1>"
   ]
  },
  {
   "cell_type": "code",
   "execution_count": 14,
   "id": "b9341dde",
   "metadata": {},
   "outputs": [],
   "source": [
    "import math\n",
    "q = 40 #unit ft³/second\n",
    "Cd = 0.6  #constant\n",
    "g = 32.2 #ft/s²\n",
    "D0 = 1 #ft"
   ]
  },
  {
   "cell_type": "code",
   "execution_count": 15,
   "id": "7e9dac83",
   "metadata": {},
   "outputs": [],
   "source": [
    "f = lambda D,q,Cd,g: D**5 - 12* (D**4) + 16* (q**2)/((math.pi**2)*(Cd**2)*g)"
   ]
  },
  {
   "cell_type": "code",
   "execution_count": 16,
   "id": "ca95abea",
   "metadata": {},
   "outputs": [],
   "source": [
    "f_prime = lambda D: 5*(D**4) - (48* (D**3))"
   ]
  },
  {
   "cell_type": "code",
   "execution_count": 33,
   "id": "439d7585",
   "metadata": {},
   "outputs": [],
   "source": [
    "q = 40 #unit ft³/second\n",
    "Cd = 0.6  #constant\n",
    "g = 32.2 #ft/s²\n",
    "D0 = 1 #ft\n",
    "tol = pow(10,-6)\n",
    "def new_ra():\n",
    "    q = 40 #unit ft³/second\n",
    "    Cd = 0.6  #constant\n",
    "    g = 32.2 #ft/s²\n",
    "    D0 = 1 #ft\n",
    "    D1 = D0 - f(D0,q,Cd,g)/f_prime(D0)\n",
    "    D0 = D1\n",
    "        \n",
    "    return D0"
   ]
  },
  {
   "cell_type": "code",
   "execution_count": 30,
   "id": "ca5c7fba",
   "metadata": {},
   "outputs": [
    {
     "data": {
      "text/plain": [
       "5.947899716813214"
      ]
     },
     "execution_count": 30,
     "metadata": {},
     "output_type": "execute_result"
    }
   ],
   "source": [
    "new_ra()"
   ]
  },
  {
   "cell_type": "code",
   "execution_count": null,
   "id": "65c2f039",
   "metadata": {},
   "outputs": [],
   "source": []
  }
 ],
 "metadata": {
  "kernelspec": {
   "display_name": "Python 3 (ipykernel)",
   "language": "python",
   "name": "python3"
  },
  "language_info": {
   "codemirror_mode": {
    "name": "ipython",
    "version": 3
   },
   "file_extension": ".py",
   "mimetype": "text/x-python",
   "name": "python",
   "nbconvert_exporter": "python",
   "pygments_lexer": "ipython3",
   "version": "3.9.12"
  }
 },
 "nbformat": 4,
 "nbformat_minor": 5
}
